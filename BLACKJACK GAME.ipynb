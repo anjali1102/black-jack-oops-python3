{
 "cells": [
  {
   "cell_type": "markdown",
   "metadata": {},
   "source": [
    "## Black Jack Game "
   ]
  },
  {
   "cell_type": "code",
   "execution_count": 1,
   "metadata": {},
   "outputs": [],
   "source": [
    "import random\n",
    "suits=('diamonds','hearts','spades','clubs')\n",
    "ranks=('two','three','four','five','six','seven','eight','nine','ten','ace','jack','king','queen')\n",
    "values={'two':2,'three':3,'four':4,'five':5,'six':6,'seven':7,'eight':8,'nine':9,'ten':10,'ace':11,'jack':10,'king':10,'queen':10}\n",
    "playing=True"
   ]
  },
  {
   "cell_type": "code",
   "execution_count": 2,
   "metadata": {},
   "outputs": [],
   "source": [
    "class Card:\n",
    "    def __init__(self,suit,rank):\n",
    "        self.suit=suit\n",
    "        self.rank=rank\n",
    "    def __str__(self):\n",
    "        return self.rank + \" of \" + self.suit\n",
    "    "
   ]
  },
  {
   "cell_type": "code",
   "execution_count": 3,
   "metadata": {},
   "outputs": [],
   "source": [
    "class Deck:\n",
    "    def __init__(self):\n",
    "        self.deck=[]           #start with empty list \n",
    "        for suit in suits:\n",
    "            for rank in ranks:\n",
    "                self.deck.append(Card(suit,rank))\n",
    "    def __str__(self):\n",
    "        deck_comp = ''      \n",
    "        for card in self.deck:\n",
    "            deck_comp += '\\n' + card.__str__()\n",
    "        return 'the deck has' + deck_comp\n",
    "                    \n",
    "    def shuffle(self):\n",
    "        '''\n",
    "        each time shuffle the deck\n",
    "        '''\n",
    "        random.shuffle(self.deck)\n",
    "    def deal(self):\n",
    "        '''\n",
    "        take out a card from deck\n",
    "        '''\n",
    "        single_card = self.deck.pop()\n",
    "        return single_card"
   ]
  },
  {
   "cell_type": "code",
   "execution_count": 4,
   "metadata": {},
   "outputs": [
    {
     "name": "stdout",
     "output_type": "stream",
     "text": [
      "the deck has\n",
      "four of hearts\n",
      "jack of diamonds\n",
      "seven of clubs\n",
      "eight of diamonds\n",
      "five of hearts\n",
      "jack of spades\n",
      "eight of clubs\n",
      "four of clubs\n",
      "ace of hearts\n",
      "ten of spades\n",
      "king of diamonds\n",
      "three of clubs\n",
      "ten of clubs\n",
      "king of hearts\n",
      "four of spades\n",
      "five of diamonds\n",
      "queen of hearts\n",
      "eight of spades\n",
      "five of spades\n",
      "five of clubs\n",
      "two of spades\n",
      "two of diamonds\n",
      "ten of diamonds\n",
      "nine of spades\n",
      "seven of diamonds\n",
      "three of diamonds\n",
      "four of diamonds\n",
      "nine of clubs\n",
      "ace of spades\n",
      "ten of hearts\n",
      "seven of hearts\n",
      "three of hearts\n",
      "queen of clubs\n",
      "seven of spades\n",
      "queen of diamonds\n",
      "ace of clubs\n",
      "nine of hearts\n",
      "six of hearts\n",
      "six of spades\n",
      "jack of hearts\n",
      "queen of spades\n",
      "three of spades\n",
      "two of hearts\n",
      "two of clubs\n",
      "king of spades\n",
      "king of clubs\n",
      "six of diamonds\n",
      "jack of clubs\n",
      "eight of hearts\n",
      "nine of diamonds\n",
      "ace of diamonds\n",
      "six of clubs\n"
     ]
    }
   ],
   "source": [
    "test_deck = Deck()\n",
    "test_deck.shuffle()\n",
    "print(test_deck)"
   ]
  },
  {
   "cell_type": "code",
   "execution_count": 5,
   "metadata": {},
   "outputs": [],
   "source": [
    "class Hand():\n",
    "    def __init__(self):\n",
    "        self.cards = []   #start with empty list\n",
    "        self.value = 0    #initially user have no cards\n",
    "        self.aces = 0     #initially user have no aces\n",
    "        \n",
    "    def add_card(self,card):   \n",
    "        self.cards.append(card)\n",
    "        self.value+= values[card.rank]\n",
    "        if card.rank =='ace':\n",
    "            self.aces+=1\n",
    "            \n",
    "    def adjust_for_ace(self):\n",
    "        while self.value>21 and self.aces>0:\n",
    "            self.value-=10               #as we have take ace=11 above\n",
    "            self.aces-=1"
   ]
  },
  {
   "cell_type": "code",
   "execution_count": 6,
   "metadata": {},
   "outputs": [
    {
     "data": {
      "text/plain": [
       "8"
      ]
     },
     "execution_count": 6,
     "metadata": {},
     "output_type": "execute_result"
    }
   ],
   "source": [
    "test_deck=Deck()\n",
    "test_deck.shuffle()\n",
    "test_player=Hand()\n",
    "test_player.add_card(test_deck.deal())\n",
    "test_player.add_card(test_deck.deal())\n",
    "test_player.value"
   ]
  },
  {
   "cell_type": "code",
   "execution_count": 7,
   "metadata": {},
   "outputs": [
    {
     "name": "stdout",
     "output_type": "stream",
     "text": [
      "five of hearts\n",
      "three of clubs\n"
     ]
    }
   ],
   "source": [
    "for cards in test_player.cards:       #shows the 2 user's cards from deck \n",
    "    print(cards)"
   ]
  },
  {
   "cell_type": "code",
   "execution_count": 8,
   "metadata": {},
   "outputs": [],
   "source": [
    "class Chips():\n",
    "    def __init__(self):\n",
    "        self.total=100         #total chips for bet \n",
    "        self.bet=0             #initialises chips for user\n",
    "    def bet_win(self):\n",
    "        '''\n",
    "        if user won ,got all other chips too\n",
    "        '''\n",
    "        self.total+=self.bet  \n",
    "    def bet_loose(self):\n",
    "        '''\n",
    "        if user looses ,lost own chips\n",
    "        '''\n",
    "        self.total-=self.bet"
   ]
  },
  {
   "cell_type": "code",
   "execution_count": 9,
   "metadata": {},
   "outputs": [],
   "source": [
    "def take_bet(chips):\n",
    "    while True:\n",
    "        try:\n",
    "            chips.bet=int(input(\"HOW MANY CHIPS YOU WANT TO BET? ---->\"))\n",
    "        except ValueError:\n",
    "            print(f\"please enter a valid integer\")\n",
    "        else:\n",
    "            if chips.bet > chips.total:\n",
    "                print(f\"OOPS!Your bet should not exceed {chips.total}\")\n",
    "            else:\n",
    "                break\n",
    "                "
   ]
  },
  {
   "cell_type": "code",
   "execution_count": 10,
   "metadata": {},
   "outputs": [],
   "source": [
    "def hit(deck,hand):\n",
    "    '''\n",
    "    this allows to take card from deck\n",
    "    '''\n",
    "    hand.add_card(deck.deal())\n",
    "    hand.adjust_for_ace()"
   ]
  },
  {
   "cell_type": "code",
   "execution_count": 11,
   "metadata": {},
   "outputs": [],
   "source": [
    "def hit_or_stand(deck,hand):\n",
    "    global playing\n",
    "    while True:\n",
    "        x=input(\"WOULD YOU LIKE TO HIT OR STAND?ENTER h/s\")\n",
    "        if(x[0].lower()=='h'):\n",
    "            hit(deck,hand)\n",
    "        elif(x[0].lower()=='s'):\n",
    "            print(\"player stands.Dealer's turn now\")\n",
    "            playing=False\n",
    "        else:\n",
    "            print(\"please try again\")\n",
    "            continue\n",
    "        break\n",
    "            "
   ]
  },
  {
   "cell_type": "code",
   "execution_count": 12,
   "metadata": {},
   "outputs": [],
   "source": [
    "def show_some(player,dealer):\n",
    "    \n",
    "    print(\"\\nDEALER'S HAND\")\n",
    "    print(\"<CARD HIDDEN>\")\n",
    "    print('',dealer.cards[1])\n",
    "    print(\"\\nPLAYER'S HAND: \",*player.cards, sep='\\n')\n",
    "def show_all(player,dealer):\n",
    "    print(\"\\nDEALER'S HAND : \",*dealer.cards, sep='\\n')\n",
    "    print(\"DEALER'S HAND = \",dealer.value)\n",
    "    print(\"\\nPLAYER'S HAND = \",*player.cards, sep='\\n')\n",
    "    print(\"PLAYER'S HAND = \",player.value)"
   ]
  },
  {
   "cell_type": "code",
   "execution_count": 13,
   "metadata": {},
   "outputs": [],
   "source": [
    "def player_busts(player,dealer,chips):\n",
    "    '''\n",
    "    when player's card value >21\n",
    "    '''\n",
    "    print(\"PLAYER BUSTS!\")\n",
    "    chips.bet_loose()\n",
    "def player_wins(player,dealer,chips):\n",
    "    print(\"PLAYER WINS!\")\n",
    "    chips.bet_win()\n",
    "def dealer_busts(player,dealer,chips):\n",
    "    print(\"PLAYER BUSTS!\")\n",
    "    chips.bet_win()\n",
    "def dealer_wins(player,dealer,chips):\n",
    "    print(\"DEALER WINS!\")\n",
    "    chips.bet_loose()\n",
    "def push(player,dealer):\n",
    "    print(\"DEALER sgAND PPLAYER TIE! IT'S A PUSH\")"
   ]
  },
  {
   "cell_type": "markdown",
   "metadata": {},
   "source": [
    "## FINALLY ON THE GAME"
   ]
  },
  {
   "cell_type": "code",
   "execution_count": null,
   "metadata": {},
   "outputs": [
    {
     "name": "stdout",
     "output_type": "stream",
     "text": [
      "WELCOME TO THE GAME!\n",
      "GET AS CLOSE AS 21 WITHOUT GOING OVER\n",
      "DEALER HITS UNTIL SHE REACHES 17.ACES COUNT AS 1 OR 11.\n"
     ]
    }
   ],
   "source": [
    "while True:\n",
    "    print(\"WELCOME TO THE GAME!\\nGET AS CLOSE AS 21 WITHOUT GOING OVER\\nDEALER HITS UNTIL SHE REACHES 17.ACES COUNT AS 1 OR 11.\")\n",
    "    deck=Deck()\n",
    "    deck.shuffle()\n",
    "    player_hand = Hand()\n",
    "    player_hand.add_card(deck.deal())\n",
    "    player_hand.add_card(deck.deal())\n",
    "    dealer_hand = Hand()\n",
    "    dealer_hand.add_card(deck.deal())\n",
    "    dealer_hand.add_card(deck.deal())\n",
    "       \n",
    "    player_chips=Chips()\n",
    "        \n",
    "    take_bet(player_chips)\n",
    "    \n",
    "    show_some(player_hand,dealer_hand)\n",
    "    \n",
    "    while playing:\n",
    "        hit_or_stand(deck,player_hand)\n",
    "                \n",
    "        show_some(player_hand,dealer_hand)\n",
    "        \n",
    "        \n",
    "        if player_hand.value>21:\n",
    "            player_busts(player_hand,dealer_hand,player_chips)\n",
    "            break\n",
    "    if player_hand.value<= 21:\n",
    "        while dealer_hand.value < 17:\n",
    "            hit(deck,dealer_hand)\n",
    "                \n",
    "        show_all(player_hand,dealer_hand)\n",
    "                \n",
    "        if dealer_hand.value>21:\n",
    "            dealer_busts(player_hand,dealer_hand,player_chips)\n",
    "        elif dealer_hand.value > player_hand.value:\n",
    "            player_wins(player_hand,dealer_hand,player_chips)\n",
    "        elif dealer_hand.value < player_hand.value:\n",
    "            player_wins(player_hand,dealer_hand,player_chips)\n",
    "        else:\n",
    "            push(player_hand,dealer_hand)\n",
    "    print(\"\\nPlayer's winnings stand at \",player_chips.total)\n",
    "            \n",
    "    new_game=input(\"WANT TO PLAY AGAIN? Enter y/n \")\n",
    "    if new_game[0].lower()=='y':\n",
    "        playing=True\n",
    "        continue\n",
    "    else:\n",
    "        print(\"Thanks for playing\")\n",
    "        break\n",
    "                "
   ]
  },
  {
   "cell_type": "code",
   "execution_count": null,
   "metadata": {},
   "outputs": [],
   "source": []
  },
  {
   "cell_type": "code",
   "execution_count": null,
   "metadata": {},
   "outputs": [],
   "source": []
  }
 ],
 "metadata": {
  "kernelspec": {
   "display_name": "Python 3",
   "language": "python",
   "name": "python3"
  },
  "language_info": {
   "codemirror_mode": {
    "name": "ipython",
    "version": 3
   },
   "file_extension": ".py",
   "mimetype": "text/x-python",
   "name": "python",
   "nbconvert_exporter": "python",
   "pygments_lexer": "ipython3",
   "version": "3.7.6"
  }
 },
 "nbformat": 4,
 "nbformat_minor": 4
}
